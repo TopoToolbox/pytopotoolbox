{
 "cells": [
  {
   "cell_type": "markdown",
   "id": "0",
   "metadata": {},
   "source": [
    "# Derive, modify and plot the stream network\n",
    "\n",
    "The stream network is a subset of the flow network. Often, this subset is defined as having a minimum upstream area. The idea is that if upstream area exceeds a critical value than flow becomes channelized in stream networks.\n",
    "\n",
    "`StreamObject` stores stream networks. Here we simply assume that streams initiate at upstream areas greater than 1000 pixels."
   ]
  },
  {
   "cell_type": "code",
   "execution_count": null,
   "id": "1",
   "metadata": {},
   "outputs": [],
   "source": [
    "import topotoolbox as tt3\n",
    "import matplotlib.pyplot as plt\n",
    "\n",
    "dem = tt3.load_dem('bigtujunga')\n",
    "fd  = tt3.FlowObject(dem);\n",
    "s   = tt3.StreamObject(fd,threshold=1000,units='pixels')"
   ]
  },
  {
   "cell_type": "markdown",
   "id": "2",
   "metadata": {},
   "source": [
    "## Plot the stream network\n",
    "\n",
    "The stream network can be plotted using the `plot` method on `StreamObject`."
   ]
  },
  {
   "cell_type": "code",
   "execution_count": null,
   "id": "3",
   "metadata": {},
   "outputs": [],
   "source": [
    "fig, ax = plt.subplots()\n",
    "dem.plot(ax,cmap=\"copper\")\n",
    "s.plot(ax=ax,color='c')\n",
    "plt.show()"
   ]
  },
  {
   "cell_type": "markdown",
   "id": "4",
   "metadata": {},
   "source": [
    "## Modify the stream network\n",
    "\n",
    "Frequently, we might be only interested in parts of the river network. `StreamObject` has a number of methods that can modify the geometry of the network. For example, we may be interested in only the largest basin."
   ]
  },
  {
   "cell_type": "code",
   "execution_count": null,
   "id": "5",
   "metadata": {},
   "outputs": [],
   "source": [
    "s2 = s.klargestconncomps(1)\n",
    "st = s2.trunk()\n",
    "fig,ax = plt.subplots()\n",
    "dem.plot(ax=ax,cmap=\"copper\")\n",
    "s.plot(ax=ax, color='c')\n",
    "s2.plot(ax=ax,color='m')\n",
    "st.plot(ax=ax, color='b')\n",
    "plt.show()"
   ]
  },
  {
   "cell_type": "markdown",
   "id": "6",
   "metadata": {},
   "source": [
    "## Plot the longitudinal stream profile\n",
    "\n",
    "Applications in tectonic geomorphology are often interested in longitudinal profiles and features such as knickpoints. Visual inspection of the profile provides a first clue for these features."
   ]
  },
  {
   "cell_type": "code",
   "execution_count": null,
   "id": "7",
   "metadata": {},
   "outputs": [],
   "source": [
    "fig = plt.figure()\n",
    "ax = plt.axes(xlabel=\"Distance (km)\", ylabel=\"Elevation (m)\")\n",
    "st.plotdz(dem, ax=ax, dunit='km')\n",
    "ax.autoscale_view()"
   ]
  },
  {
   "cell_type": "code",
   "execution_count": null,
   "id": "8",
   "metadata": {},
   "outputs": [],
   "source": []
  }
 ],
 "metadata": {},
 "nbformat": 4,
 "nbformat_minor": 5
}
