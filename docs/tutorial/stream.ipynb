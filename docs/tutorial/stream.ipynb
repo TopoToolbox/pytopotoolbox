{
 "cells": [
  {
   "cell_type": "markdown",
   "id": "bcb434fb-fd1c-489d-b8ea-8be1464fbb70",
   "metadata": {},
   "source": [
    "# Derive, modify and plot the stream network\n",
    "\n",
    "The stream network is a subset of the flow network. Often, this subset is defined as having a minimum upstream area. The idea is that if upstream area exceeds a critical value than flow becomes channelized in stream networks.\n",
    "\n",
    "`StreamObject` stores stream networks. Here we simply assume that streams initiate at upstream areas greater than 1000 pixels."
   ]
  },
  {
   "cell_type": "code",
   "execution_count": null,
   "id": "baee97b0-b2a1-4e5a-aa75-0aff08bda2c8",
   "metadata": {},
   "outputs": [],
   "source": [
    "import topotoolbox as tt3\n",
    "import matplotlib.pyplot as plt\n",
    "\n",
    "dem = tt3.load_dem('tibet')\n",
    "fd  = tt3.FlowObject(dem);\n",
    "s   = tt3.StreamObject(fd,threshold=1000,units='pixels')"
   ]
  },
  {
   "cell_type": "markdown",
   "id": "be227ed2-a95f-4b50-80e0-b8fda7ba1bba",
   "metadata": {},
   "source": [
    "## Plot the stream network\n",
    "\n",
    "The stream network can be plotted using the `plot` method on `StreamObject`."
   ]
  },
  {
   "cell_type": "code",
   "execution_count": null,
   "id": "f140a615-d23c-4f81-b9be-efcd266c9bba",
   "metadata": {},
   "outputs": [],
   "source": [
    "fig, ax = plt.subplots()\n",
    "ax.imshow(dem,cmap=\"terrain\")\n",
    "s.plot(ax=ax,color='k');"
   ]
  }
 ],
 "metadata": {
  "kernelspec": {
   "display_name": "Python 3 (ipykernel)",
   "language": "python",
   "name": "python3"
  },
  "language_info": {
   "codemirror_mode": {
    "name": "ipython",
    "version": 3
   },
   "file_extension": ".py",
   "mimetype": "text/x-python",
   "name": "python",
   "nbconvert_exporter": "python",
   "pygments_lexer": "ipython3",
   "version": "3.10.12"
  }
 },
 "nbformat": 4,
 "nbformat_minor": 5
}
