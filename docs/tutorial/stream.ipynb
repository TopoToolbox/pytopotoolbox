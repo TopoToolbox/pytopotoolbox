{
 "cells": [
  {
   "cell_type": "markdown",
   "id": "0",
   "metadata": {},
   "source": [
    "# Derive, modify and plot the stream network\n",
    "\n",
    "The stream network is a subset of the flow network. Often, this subset is defined as having a minimum upstream area. The idea is that if upstream area exceeds a critical value than flow becomes channelized in stream networks.\n",
    "\n",
    "`StreamObject` stores stream networks. Here we simply assume that streams initiate at upstream areas greater than 1000 pixels."
   ]
  },
  {
   "cell_type": "code",
   "execution_count": null,
   "id": "1",
   "metadata": {},
   "outputs": [],
   "source": [
    "import topotoolbox as tt3\n",
    "import matplotlib.pyplot as plt\n",
    "import numpy as np\n",
    "\n",
    "dem = tt3.load_dem('bigtujunga')\n",
    "fd  = tt3.FlowObject(dem)\n",
    "s   = tt3.StreamObject(fd,threshold=1000,units='pixels')"
   ]
  },
  {
   "cell_type": "markdown",
   "id": "2",
   "metadata": {},
   "source": [
    "## Plot the stream network\n",
    "\n",
    "The stream network can be plotted using the `plot` method on `StreamObject`."
   ]
  },
  {
   "cell_type": "code",
   "execution_count": null,
   "id": "3",
   "metadata": {},
   "outputs": [],
   "source": [
    "fig, ax = plt.subplots()\n",
    "dem.plot(ax,cmap=\"copper\")\n",
    "s.plot(ax=ax,color='c')\n",
    "plt.show()"
   ]
  },
  {
   "cell_type": "markdown",
   "id": "4",
   "metadata": {},
   "source": [
    "## Modify the stream network\n",
    "\n",
    "Frequently, we might be only interested in parts of the river network. `StreamObject` has a number of methods that can modify the geometry of the network. For example, we may be interested in only the largest basin."
   ]
  },
  {
   "cell_type": "code",
   "execution_count": null,
   "id": "5",
   "metadata": {},
   "outputs": [],
   "source": [
    "s2 = s.klargestconncomps(1)\n",
    "st = s2.trunk()\n",
    "fig,ax = plt.subplots()\n",
    "dem.plot(ax=ax,cmap=\"copper\")\n",
    "s.plot(ax=ax, color='c')\n",
    "s2.plot(ax=ax,color='m')\n",
    "st.plot(ax=ax, color='b')\n",
    "plt.show()"
   ]
  },
  {
   "cell_type": "markdown",
   "id": "6",
   "metadata": {},
   "source": [
    "## Plot the longitudinal stream profile\n",
    "\n",
    "Applications in tectonic geomorphology are often interested in longitudinal profiles and features such as knickpoints. Visual inspection of the profile provides a first clue for these features."
   ]
  },
  {
   "cell_type": "code",
   "execution_count": null,
   "id": "7",
   "metadata": {},
   "outputs": [],
   "source": [
    "fig = plt.figure()\n",
    "ax = plt.axes(xlabel=\"Distance (km)\", ylabel=\"Elevation (m)\")\n",
    "st.plotdz(dem, ax=ax, dunit='km')\n",
    "ax.autoscale_view()"
   ]
  },
  {
   "cell_type": "markdown",
   "id": "8",
   "metadata": {},
   "source": [
    "## Create a $\\chi$ (chi) map\n",
    "\n",
    "$\\chi$ maps are a common tool to identify divide migration patterns and assess the relative erosional behaviour of neighboring catchments.\n",
    "\n",
    "In a $\\chi$ transformation, the distance upstream of a river is replaced by a reference that factors in its total and upstream drainage area and the concavity of the stream:\n",
    "\n",
    "$\\chi = \\int{ \\frac{A_0}{A(x)^{m/n}}} dx $\n",
    "\n",
    "More info in this blogpost: https://topotoolbox.wordpress.com/2017/08/18/chimaps-in-a-few-lines-of-code-final/\n",
    "\n",
    "\n",
    "### Load a new DEM and extract the stream network\n",
    "A shared base level is needed for this catchment comparison and we will use the preloaded Taiwan topography."
   ]
  },
  {
   "cell_type": "code",
   "execution_count": null,
   "id": "9",
   "metadata": {},
   "outputs": [],
   "source": [
    "dem = tt3.load_dem('taiwan')\n",
    "fd  = tt3.FlowObject(dem)\n",
    "s   = tt3.StreamObject(fd,threshold=1000,units='pixels')\n",
    "\n",
    "fig, ax = plt.subplots()\n",
    "dem.plot(ax,cmap=\"summer\")\n",
    "s.plot(ax=ax,color='m')\n",
    "plt.show()"
   ]
  },
  {
   "cell_type": "markdown",
   "id": "10",
   "metadata": {},
   "source": [
    "### $\\chi$ profile of the longest river\n",
    "\n",
    "Like the longitudinal long profile above, we can start with a plot of the $\\chi$ profile of the largest river.\n",
    "\n",
    "For this we will use the `chitransform` method on a `StreamObject`. It uses the drainage area information gained from the `flow_accumulation` method on the `FlowObject`. The resulting $\\chi$ data is sorted in the same order as the stream elevation from the method `ezgetnal`. These datapoints are stored in a `numpy.array` and they do not sequentially traces rivers. We need one extra steps to sort these into tributaries. We will use the `StreamObject` method `xy` to achieve and sort the datapoints in sublists of tributaries."
   ]
  },
  {
   "cell_type": "code",
   "execution_count": null,
   "id": "11",
   "metadata": {},
   "outputs": [],
   "source": [
    "acc = fd.flow_accumulation()     # calculate the flow accumulation (unit=px)\n",
    "\n",
    "s_chi = s.chitransform(acc)  # chi values for all streams\n",
    "s_z   = s.ezgetnal(dem)      # elevation values for all streams\n",
    "\n",
    "s_xy    = s.xy()                    # extract the x, y coordinates of all streams\n",
    "s_z_chi = s.xy(data=(s_z,s_chi))    # reorganize elevation and chi values in pairs, in the same sublists as the coordinates.\n",
    "\n",
    "trib_z, trib_chi = zip(*max(s_z_chi, key=len))    # identify the longest river and extract its values.\n",
    "\n",
    "fig, ax = plt.subplots()\n",
    "ax.plot(trib_chi,trib_z)\n",
    "ax.set_xlabel('$\\chi$')\n",
    "ax.set_ylabel('elevation, m')"
   ]
  },
  {
   "cell_type": "markdown",
   "id": "12",
   "metadata": {},
   "source": [
    "### Showing $\\chi$ values in map view\n",
    "\n",
    "To plot the stream network color-coded by its $\\chi$ values, we loop through the sublists created by the method `xy` on the `StreamObject`."
   ]
  },
  {
   "cell_type": "code",
   "execution_count": null,
   "id": "13",
   "metadata": {},
   "outputs": [],
   "source": [
    "fig, ax = plt.subplots(figsize=(14,7))\n",
    "dem.plot(ax=ax,cmap=\"summer\")\n",
    "\n",
    "for coord_group, chi_group in zip(s_xy, s_z_chi):   # unpack the sublists one by one to move through the tributaries\n",
    "    trib_x, trib_y   = zip(*coord_group)                 # extract the coordinates of the tributaries\n",
    "    trib_z, trib_chi = zip(*chi_group)                   # extract the elevation and chi values of the tributaries\n",
    "    \n",
    "    ax.scatter(trib_x, trib_y, c=trib_chi, cmap='inferno_r', s=0.5, vmin=0, vmax=np.max(s_chi))   # note that we use common min/max values for all tributaries"
   ]
  },
  {
   "cell_type": "code",
   "execution_count": null,
   "id": "14",
   "metadata": {},
   "outputs": [],
   "source": []
  }
 ],
 "metadata": {},
 "nbformat": 4,
 "nbformat_minor": 5
}
