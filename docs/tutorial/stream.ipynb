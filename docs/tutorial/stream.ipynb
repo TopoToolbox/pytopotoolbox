{
 "cells": [
  {
   "cell_type": "markdown",
   "id": "bcb434fb-fd1c-489d-b8ea-8be1464fbb70",
   "metadata": {},
   "source": [
    "# Derive, modify and plot the stream network."
   ]
  },
  {
   "cell_type": "code",
   "execution_count": null,
   "id": "baee97b0-b2a1-4e5a-aa75-0aff08bda2c8",
   "metadata": {},
   "outputs": [],
   "source": []
  }
 ],
 "metadata": {
  "kernelspec": {
   "display_name": "Python 3 (ipykernel)",
   "language": "python",
   "name": "python3"
  },
  "language_info": {
   "codemirror_mode": {
    "name": "ipython",
    "version": 3
   },
   "file_extension": ".py",
   "mimetype": "text/x-python",
   "name": "python",
   "nbconvert_exporter": "python",
   "pygments_lexer": "ipython3",
   "version": "3.10.12"
  }
 },
 "nbformat": 4,
 "nbformat_minor": 5
}
