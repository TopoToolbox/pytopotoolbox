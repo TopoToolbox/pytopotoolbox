{
 "cells": [
  {
   "cell_type": "markdown",
   "id": "0",
   "metadata": {},
   "source": [
    "# Hydrological terrain attributes\n",
    "\n",
    "One of TopoToolbox's major strengths is in calculating hydrological terrain attributes. These terrain attributes are used to determine the paths of water and sediment through the landscapes. Local flow directions stored in a `FlowObject` are the basis for the derivation of these terrain attributes. \n",
    "`FlowObject`s are derived from the DEM."
   ]
  },
  {
   "cell_type": "code",
   "execution_count": null,
   "id": "1",
   "metadata": {},
   "outputs": [],
   "source": [
    "import topotoolbox as tt3\n",
    "import matplotlib.pyplot as plt\n",
    "\n",
    "dem = tt3.load_dem('bigtujunga')\n",
    "fd = tt3.FlowObject(dem)"
   ]
  },
  {
   "cell_type": "markdown",
   "id": "2",
   "metadata": {},
   "source": [
    "TopoToolbox requires no preprocessing or hydrological conditioning before calling `FlowObject`. Don't fill sinks although there is a function available to do this (`fillsinks`). `FlowObject` will determine closed depressions and derive flow directions in these sinks so that flow paths run along the valley thalwegs as closely as possible. Filling the DEM before would discard the topographic information in topographic depressions that would otherwise constrain the flow paths.\n",
    "By default, TopoToolbox calculates single flow directions.\n",
    "\n",
    "## Flow accumulation\n",
    "\n",
    "Flow accumulation refers to the number of pixels that drain into each pixel. If multiplied by pixel size, flow accumulation equals the drainage or catchment area upstream of each pixel.  The `FlowObject` method `flow_accumulation` calculates flow accumulation and returns a `GridObject`.\n"
   ]
  },
  {
   "cell_type": "code",
   "execution_count": null,
   "id": "3",
   "metadata": {},
   "outputs": [],
   "source": [
    "acc = fd.flow_accumulation()\n",
    "im = acc.plot(cmap='Blues',norm=\"log\")\n",
    "plt.colorbar(im)\n",
    "plt.show()"
   ]
  },
  {
   "cell_type": "markdown",
   "id": "4",
   "metadata": {},
   "source": [
    "## Drainage basin delineation\n",
    "\n",
    "Catchments can be derived using the function `drainagebasins`. The function returns a `GridObject` with integer values (a label grid). To make it easier to visualize the catchments, one can randomize the labels of the grid with `shufflelabel`. Drainage basins are labeled with discrete indices, and it is often a good idea to use nearest-neighbor interpolation when visualizing a discrete `GridObject` to avoid smearing of the boundaries between drainage basins."
   ]
  },
  {
   "cell_type": "code",
   "execution_count": null,
   "id": "5",
   "metadata": {},
   "outputs": [],
   "source": [
    "D = fd.drainagebasins()\n",
    "D.shufflelabel().plot(cmap=\"Pastel1\",interpolation=\"nearest\")\n",
    "plt.show()"
   ]
  }
 ],
 "metadata": {},
 "nbformat": 4,
 "nbformat_minor": 5
}
