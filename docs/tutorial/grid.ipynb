{
 "cells": [
  {
   "cell_type": "markdown",
   "id": "13a5e814-f0ab-496c-b9c8-2277631b1504",
   "metadata": {},
   "source": [
    "# Calculate basic DEM attributes\n",
    "\n",
    "DEM attributes (or terrain attributes) can be derived from DEMs. Many of these attributes are derivatives that can be calculated for a specific pixel by operations on neighbor pixels such as the rate of change in elevation along a direction. TopoToolbox contains numerous `GridObject` methods that perform these calculations. "
   ]
  },
  {
   "cell_type": "code",
   "execution_count": null,
   "id": "91e62562-857d-4a57-a61a-8893cb2803cc",
   "metadata": {},
   "outputs": [],
   "source": [
    "import topotoolbox as tt3\n",
    "import numpy as np\n",
    "import matplotlib.pyplot as plt"
   ]
  },
  {
   "cell_type": "markdown",
   "id": "9d1edb50-3ff4-4cca-98b2-1120a0200a78",
   "metadata": {},
   "source": [
    "## Slope\n",
    "\n",
    "A primary DEM attribute is slope which is calculated by the function `gradient8`. `gradient8` determines for each pixel the maximum downstream gradient. This approach is different from the numerical gradient used in other GIS systems but it has the advantage that it reflects the hydrological downstream gradient if the DEM is hydrologically correct."
   ]
  },
  {
   "cell_type": "code",
   "execution_count": null,
   "id": "7db82b33-d601-4489-8f10-3d14d4fd93d5",
   "metadata": {},
   "outputs": [],
   "source": [
    "dem = tt3.load_dem('tibet')\n",
    "g = dem.gradient8()\n",
    "\n",
    "fig0,ax0 = plt.subplots(1,1)\n",
    "im0 = g.plot(ax0,cmap='magma')\n",
    "plt.colorbar(im0);"
   ]
  },
  {
   "cell_type": "markdown",
   "id": "7f9ec466-881c-402f-8867-f17646c88776",
   "metadata": {},
   "source": [
    "## Aspect\n",
    "\n",
    "Aspect determines the exposition of a slope."
   ]
  },
  {
   "cell_type": "code",
   "execution_count": null,
   "id": "225f9afa-6965-40a1-b76b-2efd88244109",
   "metadata": {},
   "outputs": [],
   "source": [
    "asp = dem.aspect()\n",
    "fig1, ax1 = plt.subplots(1,1)\n",
    "im1 = asp.plot(ax1, cmap=\"viridis\", vmin=0,vmax=360)\n",
    "plt.colorbar(im1)"
   ]
  },
  {
   "cell_type": "markdown",
   "id": "51f5b1fc-077f-41f6-81cd-44c2ad4fea16",
   "metadata": {},
   "source": [
    "## Curvature\n",
    "\n",
    "Curvature is the second derivative and measures the rate of change of slope. Profile curvature is the rate of slope change in direction of the maximum gradient. Conversely, planform curvature measures the curvature of the contour lines. The function curvature allows calculating both types of curvature in addition to some additionally, less frequently used forms of curvature. Curvature is very sensitive to errors in the DEM. Thus, when plotting, we only plot the data between the 2nd and 98th percentile of the data using Numpy's `quantile` function."
   ]
  },
  {
   "cell_type": "code",
   "execution_count": null,
   "id": "03a140a8-49c9-45c2-bba7-10514f799bfd",
   "metadata": {},
   "outputs": [],
   "source": [
    "cplan = dem.curvature(ctype='planc')\n",
    "cprof = dem.curvature(ctype='profc');"
   ]
  },
  {
   "cell_type": "code",
   "execution_count": null,
   "id": "1ea1ac4c-23f1-44ed-9ba7-b6b9366b5ffb",
   "metadata": {},
   "outputs": [],
   "source": [
    "fig, (ax1, ax2) = plt.subplots(2,1,layout='constrained')\n",
    "clims1 = np.quantile(cplan,[0.02,0.98])\n",
    "im1 = cplan.plot(ax1,vmin=clims1[0],vmax=clims1[1])\n",
    "plt.colorbar(im1)\n",
    "\n",
    "clims2 = np.quantile(cprof,[0.02,0.98])\n",
    "im2 = cprof.plot(ax2,vmin=clims2[0],vmax=clims2[1])\n",
    "plt.colorbar(im2);"
   ]
  }
 ],
 "metadata": {
  "kernelspec": {
   "display_name": "Python 3 (ipykernel)",
   "language": "python",
   "name": "python3"
  },
  "language_info": {
   "codemirror_mode": {
    "name": "ipython",
    "version": 3
   },
   "file_extension": ".py",
   "mimetype": "text/x-python",
   "name": "python",
   "nbconvert_exporter": "python",
   "pygments_lexer": "ipython3",
   "version": "3.10.12"
  }
 },
 "nbformat": 4,
 "nbformat_minor": 5
}
