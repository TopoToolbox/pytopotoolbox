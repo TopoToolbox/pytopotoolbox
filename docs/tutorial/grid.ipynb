{
 "cells": [
  {
   "cell_type": "markdown",
   "id": "13a5e814-f0ab-496c-b9c8-2277631b1504",
   "metadata": {},
   "source": [
    "# Calculate basic DEM attributes\n",
    "\n",
    "DEM attributes (or terrain attributes) can be derived from DEMs. Many of these attributes are derivatives that can be calculated for a specific pixel by operations on neighbor pixels such as the rate of change in elevation along a direction. TopoToolbox contains numerous `GridObject` methods that perform these calculations. "
   ]
  },
  {
   "cell_type": "code",
   "execution_count": null,
   "id": "91e62562-857d-4a57-a61a-8893cb2803cc",
   "metadata": {},
   "outputs": [],
   "source": [
    "import topotoolbox as tt3"
   ]
  },
  {
   "cell_type": "markdown",
   "id": "9d1edb50-3ff4-4cca-98b2-1120a0200a78",
   "metadata": {},
   "source": [
    "## Slope\n",
    "\n",
    "A primary DEM attribute is slope which is calculated by the function `gradient8`. `gradient8` determines for each pixel the maximum downstream gradient. This approach is different from the numerical gradient used in other GIS systems but it has the advantage that it reflects the hydrological downstream gradient if the DEM is hydrologically correct."
   ]
  },
  {
   "cell_type": "code",
   "execution_count": null,
   "id": "7db82b33-d601-4489-8f10-3d14d4fd93d5",
   "metadata": {},
   "outputs": [],
   "source": [
    "dem = tt3.load_dem('tibet')\n",
    "g = dem.gradient8()\n",
    "g.show(cmap='magma')"
   ]
  }
 ],
 "metadata": {
  "kernelspec": {
   "display_name": "Python 3 (ipykernel)",
   "language": "python",
   "name": "python3"
  },
  "language_info": {
   "codemirror_mode": {
    "name": "ipython",
    "version": 3
   },
   "file_extension": ".py",
   "mimetype": "text/x-python",
   "name": "python",
   "nbconvert_exporter": "python",
   "pygments_lexer": "ipython3",
   "version": "3.10.12"
  }
 },
 "nbformat": 4,
 "nbformat_minor": 5
}
