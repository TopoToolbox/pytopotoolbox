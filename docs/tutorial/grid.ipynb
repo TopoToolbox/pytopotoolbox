{
 "cells": [
  {
   "cell_type": "markdown",
   "id": "0",
   "metadata": {},
   "source": [
    "# Calculate basic DEM attributes\n",
    "\n",
    "DEM attributes (or terrain attributes) can be derived from DEMs. Many of these attributes are derivatives that can be calculated for a specific pixel by operations on neighbor pixels such as the rate of change in elevation along a direction. TopoToolbox contains numerous `GridObject` methods that perform these calculations. "
   ]
  },
  {
   "cell_type": "code",
   "execution_count": null,
   "id": "1",
   "metadata": {},
   "outputs": [],
   "source": [
    "import topotoolbox as tt3\n",
    "import numpy as np\n",
    "import matplotlib.pyplot as plt"
   ]
  },
  {
   "cell_type": "markdown",
   "id": "2",
   "metadata": {},
   "source": [
    "## Slope\n",
    "\n",
    "A primary DEM attribute is slope which is calculated by the function `gradient8`. `gradient8` determines for each pixel the maximum downstream gradient. This approach is different from the numerical gradient used in other GIS systems but it has the advantage that it reflects the hydrological downstream gradient if the DEM is hydrologically correct."
   ]
  },
  {
   "cell_type": "code",
   "execution_count": null,
   "id": "3",
   "metadata": {},
   "outputs": [],
   "source": [
    "dem = tt3.load_dem('bigtujunga')\n",
    "g = dem.gradient8()\n",
    "\n",
    "fig0,ax0 = plt.subplots(1,1)\n",
    "im0 = g.plot(ax0,cmap='magma_r')\n",
    "plt.colorbar(im0)\n",
    "plt.show()"
   ]
  },
  {
   "cell_type": "markdown",
   "id": "4",
   "metadata": {},
   "source": [
    "## Aspect\n",
    "\n",
    "Aspect determines the exposition of a slope."
   ]
  },
  {
   "cell_type": "code",
   "execution_count": null,
   "id": "5",
   "metadata": {},
   "outputs": [],
   "source": [
    "asp = dem.aspect()\n",
    "fig1, ax1 = plt.subplots(1,1)\n",
    "im1 = asp.plot(ax1, cmap=\"twilight\", vmin=0,vmax=360)\n",
    "plt.colorbar(im1)\n",
    "plt.show()"
   ]
  },
  {
   "cell_type": "markdown",
   "id": "6",
   "metadata": {},
   "source": [
    "## Curvature\n",
    "\n",
    "Curvature is the second derivative and measures the rate of change of slope. Profile curvature is the rate of slope change in direction of the maximum gradient. Conversely, planform curvature measures the curvature of the contour lines. The function curvature allows calculating both types of curvature in addition to some additionally, less frequently used forms of curvature. Curvature is very sensitive to errors in the DEM. Thus, when plotting, we only plot the data between the 2nd and 98th percentile of the data using Numpy's `quantile` function."
   ]
  },
  {
   "cell_type": "code",
   "execution_count": null,
   "id": "7",
   "metadata": {},
   "outputs": [],
   "source": [
    "cplan = dem.curvature(ctype='planc')\n",
    "cprof = dem.curvature(ctype='profc');"
   ]
  },
  {
   "cell_type": "code",
   "execution_count": null,
   "id": "8",
   "metadata": {
    "editable": true,
    "slideshow": {
     "slide_type": ""
    },
    "tags": []
   },
   "outputs": [],
   "source": [
    "fig, (ax1, ax2) = plt.subplots(2,1,layout='constrained')\n",
    "clims1 = np.quantile(cplan,[0.02,0.98])\n",
    "max_clims1 = np.max(np.abs(clims1))  # find the largest absolute value to set the limits of the divergent colormap\n",
    "im1 = cplan.plot(ax1,cmap=\"BrBG_r\",vmin=-max_clims1,vmax=max_clims1)\n",
    "plt.colorbar(im1)\n",
    "\n",
    "clims2 = np.quantile(cprof,[0.02,0.98])\n",
    "max_clims2 = np.max(np.abs(clims2))  # find the largest absolute value to set the limits of the divergent colormap\n",
    "im2 = cprof.plot(ax2,cmap=\"BrBG_r\",vmin=-max_clims2,vmax=max_clims2)\n",
    "plt.colorbar(im2);"
   ]
  },
  {
   "cell_type": "code",
   "execution_count": null,
   "id": "9",
   "metadata": {},
   "outputs": [],
   "source": []
  }
 ],
 "metadata": {},
 "nbformat": 4,
 "nbformat_minor": 5
}
