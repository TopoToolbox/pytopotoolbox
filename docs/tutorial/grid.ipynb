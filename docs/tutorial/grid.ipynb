{
 "cells": [
  {
   "cell_type": "markdown",
   "id": "7f91f5ec-79b8-47cc-acf8-8c76867510c1",
   "metadata": {},
   "source": [
    "# Calculate basic DEM attributes"
   ]
  },
  {
   "cell_type": "code",
   "execution_count": null,
   "id": "7db82b33-d601-4489-8f10-3d14d4fd93d5",
   "metadata": {},
   "outputs": [],
   "source": []
  }
 ],
 "metadata": {
  "kernelspec": {
   "display_name": "Python 3 (ipykernel)",
   "language": "python",
   "name": "python3"
  },
  "language_info": {
   "codemirror_mode": {
    "name": "ipython",
    "version": 3
   },
   "file_extension": ".py",
   "mimetype": "text/x-python",
   "name": "python",
   "nbconvert_exporter": "python",
   "pygments_lexer": "ipython3",
   "version": "3.10.12"
  }
 },
 "nbformat": 4,
 "nbformat_minor": 5
}
