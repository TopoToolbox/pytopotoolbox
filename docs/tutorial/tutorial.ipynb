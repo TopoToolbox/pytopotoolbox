{
 "cells": [
  {
   "cell_type": "markdown",
   "metadata": {
    "editable": true,
    "slideshow": {
     "slide_type": ""
    },
    "tags": []
   },
   "source": [
    "# Getting started with TopoToolbox\n",
    "\n",
    "This tutorial will guide you through the first steps of getting started with TopoToolbox in Python. For further examples refer to the provided [examples](../examples.rst).\n",
    "\n",
    "## Installation\n",
    "\n",
    "Make sure to have TopoToolbox installed as per the [installation guide](../index.rst#installing-and-getting-started). If you want to follow along in this notebook, you will also need to [download this notebook](../_sources/tutorial/tutorial.ipynb), install Jupyter Notebook using `pip install notebook` and launch Jupyter Notebook using `jupyter notebook`.\n",
    "\n",
    "## Load a DEM and display it\n",
    "\n",
    "Before you can actually use the topotoolbox package, it has to be imported. Since we want to plot the DEMs we will also import `matplotlib.pyplot`."
   ]
  },
  {
   "cell_type": "code",
   "execution_count": null,
   "metadata": {},
   "outputs": [],
   "source": [
    "import topotoolbox as tt3\n",
    "import matplotlib.pyplot as plt"
   ]
  },
  {
   "cell_type": "markdown",
   "metadata": {},
   "source": [
    "TopoToolbox includes several examples of digital elevation models. To find out which examples are available, use `get_dem_names()`."
   ]
  },
  {
   "cell_type": "code",
   "execution_count": null,
   "metadata": {},
   "outputs": [],
   "source": [
    "print(tt3.get_dem_names())"
   ]
  },
  {
   "cell_type": "markdown",
   "metadata": {},
   "source": [
    "Load one of the example files by calling `load_dem` with the example's name. TopoToolbox will download the DEM and load it as a `GridObject`. After the DEM has been created, you can view its attributes by using the `info` method."
   ]
  },
  {
   "cell_type": "code",
   "execution_count": null,
   "metadata": {},
   "outputs": [],
   "source": [
    "dem = tt3.load_dem('tibet')\n",
    "dem.info()"
   ]
  },
  {
   "cell_type": "markdown",
   "metadata": {},
   "source": [
    "The DEM can be visualized using the `plot` method on the `GridObject`."
   ]
  },
  {
   "cell_type": "code",
   "execution_count": null,
   "metadata": {},
   "outputs": [],
   "source": [
    "im = dem.plot(cmap=\"terrain\")\n",
    "plt.colorbar(im)"
   ]
  },
  {
   "cell_type": "markdown",
   "metadata": {},
   "source": [
    "If you have a DEM stored on your computer, you can use the function `read_tif` to load the data by calling it with the path to the file\n",
    "\n",
    "```python\n",
    "tt3.read_tif(\"/path/to/DEM.tif\")\n",
    "```\n",
    "\n",
    "If you have used `load_dem` to download the example DEMs and would like to remove the examples from your disk, you can use `clear_cache` to deleted the stored data.\n",
    "\n",
    "```python\n",
    "tt3.clear_cache()\n",
    "```"
   ]
  },
  {
   "cell_type": "markdown",
   "metadata": {
    "editable": true,
    "slideshow": {
     "slide_type": ""
    },
    "tags": [
     "nbsphinx-toctree"
    ]
   },
   "source": [
    "## Next steps\n",
    "\n",
    "[Calculate basic DEM attributes](grid.ipynb)\n",
    "\n",
    "[Hydrological terrain attributes](flow.ipynb)\n",
    "\n",
    "[Derive, modify and plot the stream network](stream.ipynb)"
   ]
  }
 ],
 "metadata": {
  "kernelspec": {
   "display_name": "Python 3 (ipykernel)",
   "language": "python",
   "name": "python3"
  },
  "language_info": {
   "codemirror_mode": {
    "name": "ipython",
    "version": 3
   },
   "file_extension": ".py",
   "mimetype": "text/x-python",
   "name": "python",
   "nbconvert_exporter": "python",
   "pygments_lexer": "ipython3",
   "version": "3.10.12"
  }
 },
 "nbformat": 4,
 "nbformat_minor": 4
}
