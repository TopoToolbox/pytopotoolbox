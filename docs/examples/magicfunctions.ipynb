{
 "cells": [
  {
   "cell_type": "markdown",
   "metadata": {},
   "source": [
    "Interaction between GridObjects\n",
    "===============================\n",
    "\n",
    "In this Jupyter Notebook, the magic functions of the gridObject are explained. These are operations like adding two GridObjects together. Instead of utilizing functions that could look like `new_dem = topo.add(dem1, dem2)`, this package utilizes magic functions. The same addition will therefor look like this: `new_dem = dem1 + dem2`.\n",
    "\n",
    "The following operations are possible using GridObjects:\n",
    "\n",
    "- Equality Check: `==`\n",
    "- Inequality Check: `!=`\n",
    "- Greater Than: `>`\n",
    "- Less Than: `<`\n",
    "- Greater Than or Equal To: `>=`\n",
    "- Less Than or Equal To: `<=`\n",
    "- Addition: `+`\n",
    "- Subtraction: `-`\n",
    "- Multiplication: `*`\n",
    "- Division: `/`\n",
    "- Logical AND: `&`\n",
    "- Logical OR: `|`\n",
    "- Logical XOR: `^`\n",
    "- Length: `len()`\n",
    "- Iteration: `for i in dem:`\n",
    "- Item Access: `y = dem[x]`\n",
    "- Item Assignment: `dem[x] = y`\n",
    "- Array Representation: Passing the GridObject in places where a numpy.ndarray is expected\n",
    "- String Representation: `print(dem)`\n"
   ]
  },
  {
   "cell_type": "code",
   "execution_count": null,
   "metadata": {},
   "outputs": [],
   "source": [
    "import topotoolbox as topo\n",
    "import matplotlib.pyplot as plt\n",
    "from mpl_toolkits.axes_grid1 import make_axes_locatable\n",
    "import numpy as np"
   ]
  },
  {
   "cell_type": "markdown",
   "metadata": {},
   "source": [
    "Iterating through a GridObject:\n",
    "-------------------------------"
   ]
  },
  {
   "cell_type": "code",
   "execution_count": null,
   "metadata": {},
   "outputs": [],
   "source": [
    "dem = topo.gen_random_bool(rows=4, columns=4)\n",
    "\n",
    "# looping through a GridObject\n",
    "for i in dem:\n",
    "    print(i)\n",
    "\n",
    "# Accessing cells of an GridObject\n",
    "print(f\"\\n{dem[2][2]}\")\n",
    "dem[2][2] = 2\n",
    "print(f\"\\n{dem[2][2]}\")"
   ]
  },
  {
   "cell_type": "markdown",
   "metadata": {},
   "source": [
    "Comparing GridObjects\n",
    "---------------------"
   ]
  },
  {
   "cell_type": "code",
   "execution_count": null,
   "metadata": {},
   "outputs": [],
   "source": [
    "dem1 = topo.gen_random(rows=32, columns=32, hillsize=24)\n",
    "dem2 = topo.gen_random(rows=32, columns=32, hillsize=32)\n",
    "\n",
    "dem3 = dem1 > dem2\n",
    "dem4 = dem1 == dem2\n",
    "\n",
    "# Some comparisons between the two generated GridObjects\n",
    "fig,axs = plt.subplots(1,4,figsize=(20,5),squeeze=False)\n",
    "img1 = dem1.plot(axs[0,0],cmap=\"terrain\")\n",
    "div1 = make_axes_locatable(axs[0,0])\n",
    "cax1 = div1.append_axes(\"right\", size=\"5%\", pad=0.05)\n",
    "fig.colorbar(img1,cax=cax1)\n",
    "\n",
    "img2 = dem2.plot(axs[0,1],cmap=\"terrain\")\n",
    "div2 = make_axes_locatable(axs[0,1])\n",
    "cax2 = div2.append_axes(\"right\", size=\"5%\", pad=0.05)\n",
    "fig.colorbar(img2,cax=cax2)\n",
    "\n",
    "img3 = dem3.plot(axs[0,2],cmap=\"Greys\")\n",
    "div3 = make_axes_locatable(axs[0,2])\n",
    "cax3 = div3.append_axes(\"right\", size=\"5%\", pad=0.05)\n",
    "fig.colorbar(img3,cax=cax3)\n",
    "\n",
    "img4 = dem4.plot(axs[0,3],cmap=\"Greys\")\n",
    "div4 = make_axes_locatable(axs[0,3])\n",
    "cax4 = div4.append_axes(\"right\", size=\"5%\", pad=0.05)\n",
    "fig.colorbar(img4,cax=cax4)\n",
    "\n",
    "plt.tight_layout()"
   ]
  },
  {
   "cell_type": "markdown",
   "metadata": {},
   "source": [
    "Using AND, OR as well as XOR\n",
    "----------------------------"
   ]
  },
  {
   "cell_type": "code",
   "execution_count": null,
   "metadata": {},
   "outputs": [],
   "source": [
    "dem1 = topo.gen_random_bool()\n",
    "dem2 = topo.gen_random_bool()\n",
    "\n",
    "dem3 = dem1 & dem2\n",
    "dem4 = dem1 | dem2\n",
    "dem5 = dem1 ^ dem2\n",
    "\n",
    "fig,axs = plt.subplots(1,5,figsize=(25,5),squeeze=False)\n",
    "img1 = dem1.plot(axs[0,0],cmap=\"Greys\")\n",
    "div1 = make_axes_locatable(axs[0,0])\n",
    "cax1 = div1.append_axes(\"right\", size=\"5%\", pad=0.05)\n",
    "fig.colorbar(img1,cax=cax1)\n",
    "\n",
    "img2 = dem2.plot(axs[0,1],cmap=\"Greys\")\n",
    "div2 = make_axes_locatable(axs[0,1])\n",
    "cax2 = div2.append_axes(\"right\", size=\"5%\", pad=0.05)\n",
    "fig.colorbar(img2,cax=cax2)\n",
    "\n",
    "img3 = dem3.plot(axs[0,2],cmap=\"Greys\")\n",
    "div3 = make_axes_locatable(axs[0,2])\n",
    "cax3 = div3.append_axes(\"right\", size=\"5%\", pad=0.05)\n",
    "fig.colorbar(img3,cax=cax3)\n",
    "\n",
    "img4 = dem4.plot(axs[0,3],cmap=\"Greys\")\n",
    "div4 = make_axes_locatable(axs[0,3])\n",
    "cax4 = div4.append_axes(\"right\", size=\"5%\", pad=0.05)\n",
    "fig.colorbar(img4,cax=cax4)\n",
    "\n",
    "img5 = dem4.plot(axs[0,4],cmap=\"Greys\")\n",
    "div5 = make_axes_locatable(axs[0,4])\n",
    "cax5 = div5.append_axes(\"right\", size=\"5%\", pad=0.05)\n",
    "fig.colorbar(img5,cax=cax5)\n",
    "\n",
    "plt.tight_layout()"
   ]
  },
  {
   "cell_type": "code",
   "execution_count": null,
   "metadata": {},
   "outputs": [],
   "source": [
    "dem1 = topo.gen_random(rows=32, columns=32, seed=128, name='dem1')\n",
    "dem2 = topo.gen_random(rows=32, columns=32, seed=84, name='dem2')\n",
    "\n",
    "dem3 = dem1 + dem2\n",
    "dem4 = dem1 * 2\n",
    "\n",
    "# Adding two GridObject together and multiplying dem1 by 2. Notice the colorbar\n",
    "fig,axs = plt.subplots(1,4,figsize=(20,5),squeeze=False)\n",
    "img1 = dem1.plot(axs[0,0],cmap=\"terrain\")\n",
    "div1 = make_axes_locatable(axs[0,0])\n",
    "cax1 = div1.append_axes(\"right\", size=\"5%\", pad=0.05)\n",
    "fig.colorbar(img1,cax=cax1)\n",
    "\n",
    "img2 = dem2.plot(axs[0,1],cmap=\"terrain\")\n",
    "div2 = make_axes_locatable(axs[0,1])\n",
    "cax2 = div2.append_axes(\"right\", size=\"5%\", pad=0.05)\n",
    "fig.colorbar(img2,cax=cax2)\n",
    "\n",
    "img3 = dem3.plot(axs[0,2],cmap=\"terrain\")\n",
    "div3 = make_axes_locatable(axs[0,2])\n",
    "cax3 = div3.append_axes(\"right\", size=\"5%\", pad=0.05)\n",
    "fig.colorbar(img3,cax=cax3)\n",
    "\n",
    "img4 = dem4.plot(axs[0,3],cmap=\"terrain\")\n",
    "div4 = make_axes_locatable(axs[0,3])\n",
    "cax4 = div4.append_axes(\"right\", size=\"5%\", pad=0.05)\n",
    "fig.colorbar(img4,cax=cax4)\n",
    "\n",
    "plt.tight_layout()"
   ]
  }
 ],
 "metadata": {
  "kernelspec": {
   "display_name": "Python 3 (ipykernel)",
   "language": "python",
   "name": "python3"
  },
  "language_info": {
   "codemirror_mode": {
    "name": "ipython",
    "version": 3
   },
   "file_extension": ".py",
   "mimetype": "text/x-python",
   "name": "python",
   "nbconvert_exporter": "python",
   "pygments_lexer": "ipython3",
   "version": "3.10.12"
  }
 },
 "nbformat": 4,
 "nbformat_minor": 4
}
