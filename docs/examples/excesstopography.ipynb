{
 "cells": [
  {
   "cell_type": "markdown",
   "metadata": {},
   "source": [
    "Excesstopography\n",
    "================\n",
    "\n",
    "This example will showcase how the excesstopography function can be used."
   ]
  },
  {
   "cell_type": "code",
   "execution_count": null,
   "metadata": {},
   "outputs": [],
   "source": [
    "import topotoolbox as topo\n",
    "import matplotlib.pyplot as plt\n",
    "import numpy as np\n",
    "from matplotlib import colors\n",
    "from mpl_toolkits.axes_grid1 import make_axes_locatable\n",
    "\n",
    "dem = topo.load_dem('bigtujunga')\n",
    "dem.plot_hs(cmap='gist_earth',norm=colors.Normalize(vmin=-1000,vmax=np.nanmax(dem)))"
   ]
  },
  {
   "cell_type": "markdown",
   "metadata": {},
   "source": [
    "There are two methods that can be used to calculate the new GridObject. 'fsm2d' and 'fmm2d', where 'fsm2d' is the default since it requires less memory and is generally faster. This function needs a threshold matrix to calculate the excess topography. If no value/matrix is provided by the user, a default matrix filled with the value 0.2 is used."
   ]
  },
  {
   "cell_type": "code",
   "execution_count": null,
   "metadata": {},
   "outputs": [],
   "source": [
    "excess_fsm = dem.excesstopography(threshold=0.2)\n",
    "\n",
    "# Plots\n",
    "fig,(ax1,ax2) = plt.subplots(1,2)\n",
    "\n",
    "im1 = dem.plot_hs(ax=ax1, cmap=\"terrain\", norm=colors.Normalize(vmin=-1000,vmax=np.nanmax(dem)))\n",
    "divider = make_axes_locatable(ax1)\n",
    "cax1 = divider.append_axes(\"right\", size=\"5%\", pad=0.05)\n",
    "fig.colorbar(im1,cax=cax1)\n",
    "\n",
    "im2 = excess_fsm.plot_hs(ax2,cmap=\"terrain\", norm=colors.Normalize(vmin=-1000,vmax=np.nanmax(dem)))\n",
    "divider = make_axes_locatable(ax2)\n",
    "cax2 = divider.append_axes(\"right\", size=\"5%\", pad=0.05)\n",
    "fig.colorbar(im2,cax=cax2)\n",
    "\n",
    "plt.tight_layout()"
   ]
  },
  {
   "cell_type": "code",
   "execution_count": null,
   "metadata": {},
   "outputs": [],
   "source": [
    "excess_fmm = dem.excesstopography(method='fmm2d')\n",
    "\n",
    "# Plots\n",
    "fig,(ax1,ax2) = plt.subplots(1,2)\n",
    "\n",
    "im1 = dem.plot_hs(ax=ax1, cmap=\"terrain\", norm=colors.Normalize(vmin=-1000,vmax=np.nanmax(dem)))\n",
    "divider = make_axes_locatable(ax1)\n",
    "cax1 = divider.append_axes(\"right\", size=\"5%\", pad=0.05)\n",
    "fig.colorbar(im1,cax=cax1)\n",
    "\n",
    "im2 = excess_fmm.plot_hs(ax2,cmap=\"terrain\", norm=colors.Normalize(vmin=-1000,vmax=np.nanmax(dem)))\n",
    "divider = make_axes_locatable(ax2)\n",
    "cax2 = divider.append_axes(\"right\", size=\"5%\", pad=0.05)\n",
    "fig.colorbar(im2,cax=cax2)\n",
    "\n",
    "plt.tight_layout()"
   ]
  },
  {
   "cell_type": "markdown",
   "metadata": {},
   "source": [
    "If some sections of the GridObject should be evaluated differently than others, use another GridObject or np.ndarray to add custom value for the threshold slopes. Make sure that the shape of your threshold matches the one of your GridObject."
   ]
  },
  {
   "cell_type": "code",
   "execution_count": null,
   "metadata": {},
   "outputs": [],
   "source": [
    "import numpy as np\n",
    "\n",
    "# Generate custom matrix\n",
    "custom_matrix = np.empty(dem.shape, order='F')\n",
    "midpoint = dem.shape[0] // 2\n",
    "custom_matrix[:midpoint, :] = 0.5\n",
    "custom_matrix[midpoint:, :] = 0.2\n",
    "\n",
    "excess_custom = dem.excesstopography(threshold=custom_matrix)\n",
    "\n",
    "\n",
    "# Plots\n",
    "fig,(ax1,ax2) = plt.subplots(1,2)\n",
    "\n",
    "im1 = dem.plot_hs(ax=ax1, cmap=\"terrain\", norm=colors.Normalize(vmin=-1000,vmax=np.nanmax(dem)))\n",
    "divider = make_axes_locatable(ax1)\n",
    "cax1 = divider.append_axes(\"right\", size=\"5%\", pad=0.05)\n",
    "fig.colorbar(im1,cax=cax1)\n",
    "\n",
    "im2 = excess_custom.plot_hs(ax=ax2, cmap=\"terrain\", norm=colors.Normalize(vmin=-1000,vmax=np.nanmax(dem)))\n",
    "divider = make_axes_locatable(ax2)\n",
    "cax2 = divider.append_axes(\"right\", size=\"5%\", pad=0.05)\n",
    "fig.colorbar(im2,cax=cax2)\n",
    "\n",
    "plt.tight_layout()"
   ]
  },
  {
   "cell_type": "code",
   "execution_count": null,
   "metadata": {},
   "outputs": [],
   "source": []
  }
 ],
 "metadata": {},
 "nbformat": 4,
 "nbformat_minor": 4
}
