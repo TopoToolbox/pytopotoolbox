{
 "cells": [
  {
   "cell_type": "markdown",
   "metadata": {},
   "source": [
    "Excesstopography\n",
    "================\n",
    "\n",
    "This example will showcase how the excesstopography function can be used."
   ]
  },
  {
   "cell_type": "code",
   "execution_count": null,
   "metadata": {},
   "outputs": [],
   "source": [
    "import topotoolbox as topo\n",
    "import matplotlib.pyplot as plt\n",
    "from mpl_toolkits.axes_grid1 import make_axes_locatable\n",
    "\n",
    "dem = topo.gen_random()"
   ]
  },
  {
   "cell_type": "markdown",
   "metadata": {},
   "source": [
    "There are two methods that can be used to calculate the new GridObject. 'fsm2d' and 'fmm2d', where 'fsm2d' is the default since it requires less memory and is generally faster. This function needs a threshold matrix to calculate the excess topography. If no value/matrix is provided by the user, a default matrix filled with the value 0.2 is used."
   ]
  },
  {
   "cell_type": "code",
   "execution_count": null,
   "metadata": {},
   "outputs": [],
   "source": [
    "excess_fsm = dem.excesstopography(threshold=0.5)\n",
    "\n",
    "# Plots\n",
    "fig,(ax1,ax2) = plt.subplots(1,2)\n",
    "\n",
    "im1 = ax1.imshow(dem, cmap=\"terrain\")\n",
    "divider = make_axes_locatable(ax1)\n",
    "cax1 = divider.append_axes(\"right\", size=\"5%\", pad=0.05)\n",
    "fig.colorbar(im1,cax=cax1)\n",
    "\n",
    "im2 = excess_fsm.plot(ax2,cmap=\"terrain\")\n",
    "divider = make_axes_locatable(ax2)\n",
    "cax2 = divider.append_axes(\"right\", size=\"5%\", pad=0.05)\n",
    "fig.colorbar(im2,cax=cax2)\n",
    "\n",
    "plt.tight_layout()"
   ]
  },
  {
   "cell_type": "code",
   "execution_count": null,
   "metadata": {},
   "outputs": [],
   "source": [
    "excess_fmm = dem.excesstopography(method='fmm2d')\n",
    "\n",
    "# Plots\n",
    "fig,(ax1,ax2) = plt.subplots(1,2)\n",
    "\n",
    "im1 = ax1.imshow(dem, cmap=\"terrain\")\n",
    "divider = make_axes_locatable(ax1)\n",
    "cax1 = divider.append_axes(\"right\", size=\"5%\", pad=0.05)\n",
    "fig.colorbar(im1,cax=cax1)\n",
    "\n",
    "im2 = excess_fmm.plot(ax2,cmap=\"terrain\")\n",
    "divider = make_axes_locatable(ax2)\n",
    "cax2 = divider.append_axes(\"right\", size=\"5%\", pad=0.05)\n",
    "fig.colorbar(im2,cax=cax2)\n",
    "\n",
    "plt.tight_layout()"
   ]
  },
  {
   "cell_type": "markdown",
   "metadata": {},
   "source": [
    "If some sections of the GridObject should be evaluated differently than others, use another GridObject or np.ndarray to add custom value for the threshold slopes. Make sure that the shape of your threshold matches the one of your GridObject."
   ]
  },
  {
   "cell_type": "code",
   "execution_count": null,
   "metadata": {},
   "outputs": [],
   "source": [
    "import numpy as np\n",
    "\n",
    "# Generate custom matrix\n",
    "custom_matrix = np.empty(dem.shape, order='F')\n",
    "midpoint = dem.shape[0] // 2\n",
    "custom_matrix[:midpoint, :] = 0.5\n",
    "custom_matrix[midpoint:, :] = 0.2\n",
    "\n",
    "excess_custom = dem.excesstopography(threshold=custom_matrix)\n",
    "\n",
    "\n",
    "# Plots\n",
    "fig,(ax1,ax2) = plt.subplots(1,2)\n",
    "\n",
    "im1 = ax1.imshow(dem, cmap=\"terrain\")\n",
    "divider = make_axes_locatable(ax1)\n",
    "cax1 = divider.append_axes(\"right\", size=\"5%\", pad=0.05)\n",
    "fig.colorbar(im1,cax=cax1)\n",
    "\n",
    "im2 = excess_custom.plot(ax2,cmap=\"terrain\")\n",
    "divider = make_axes_locatable(ax2)\n",
    "cax2 = divider.append_axes(\"right\", size=\"5%\", pad=0.05)\n",
    "fig.colorbar(im2,cax=cax2)\n",
    "\n",
    "plt.tight_layout()"
   ]
  }
 ],
 "metadata": {
  "kernelspec": {
   "display_name": "Python 3 (ipykernel)",
   "language": "python",
   "name": "python3"
  },
  "language_info": {
   "codemirror_mode": {
    "name": "ipython",
    "version": 3
   },
   "file_extension": ".py",
   "mimetype": "text/x-python",
   "name": "python",
   "nbconvert_exporter": "python",
   "pygments_lexer": "ipython3",
   "version": "3.10.12"
  }
 },
 "nbformat": 4,
 "nbformat_minor": 4
}
