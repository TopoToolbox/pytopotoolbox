{
 "cells": [
  {
   "cell_type": "markdown",
   "metadata": {},
   "source": [
    "# Tutorial\n",
    "\n",
    "## Installation\n",
    "\n",
    "Before you can use the TopoToolbox you will have to install python. To ensure pip is installed run:\n",
    "\n",
    "## Getting this file\n",
    "[TEMPORARY](https://raw.githubusercontent.com/Teschl/pytopotoolbox/main/docs/tutorial.ipynb)\n",
    "\n",
    "Feel free to [download this notebook](https://raw.githubusercontent.com/topotoolbox/pytopotoolbox/main/docs/tutorial.ipynb) so can learn these first steps in an interactive way.\n"
   ]
  },
  {
   "cell_type": "code",
   "execution_count": null,
   "metadata": {},
   "outputs": [],
   "source": []
  }
 ],
 "metadata": {
  "language_info": {
   "name": "python"
  }
 },
 "nbformat": 4,
 "nbformat_minor": 2
}
