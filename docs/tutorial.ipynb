{
 "cells": [
  {
   "cell_type": "markdown",
   "metadata": {},
   "source": [
    "# Tutorial\n",
    "\n",
    "This tutorial will guide you through the first steps of getting started with the topotoolbox for python. For further examples regarding the functionality and use cases of different functions/classes refer to the provided examples.\n",
    "\n",
    "## Installation\n",
    "\n",
    "Before you can use this tutorial the make sure to have the topotoolbox installed as per the installation guide.\n",
    "\n",
    "## Working with this file\n",
    "\n",
    "Feel free to [download this notebook](https://github.com/TopoToolbox/pytopotoolbox/blob/main/docs/tutorial.ipynb) so can follow these first steps in an interactive way.\n",
    "\n",
    "- Downloading the notebook: ```curl -o tutorial.ipynb https://raw.githubusercontent.com/topotoolbox/pytopotoolbox/main/docs/tutorial.ipynb``` or ```wget -O tutorial.ipynb https://raw.githubusercontent.com/topotoolbox/pytopotoolbox/main/docs/tutorial.ipynb```\n",
    "\n",
    "- You’ll need to install Jupyter Notebook to run this file: pip install notebook\n",
    "\n",
    "- To plot the DEMs you’ll also need matplotlib installed: pip install matplotlib\n",
    "\n",
    "- To run the notebook: jupyter notebook\n",
    "\n",
    "## Working on a first DEM\n",
    "\n",
    "Before you can actually use the topotoolbox package, it has to be imported. Since we want to plot the DEMs we will also import `matplotlib.pyplot`."
   ]
  },
  {
   "cell_type": "code",
   "execution_count": null,
   "metadata": {},
   "outputs": [],
   "source": [
    "import topotoolbox as topo\n",
    "import matplotlib.pyplot as plt"
   ]
  },
  {
   "cell_type": "markdown",
   "metadata": {},
   "source": [
    "To automatically download one of the example files, the function `load_dem()` is used. To find out which files are available, use `get_dem_names()`. After the DEM has been created, you can view it’s attributes by using `GridObject.info()`."
   ]
  },
  {
   "cell_type": "code",
   "execution_count": null,
   "metadata": {},
   "outputs": [],
   "source": [
    "print(topo.get_dem_names())\n",
    "\n",
    "dem = topo.load_dem('taiwan')\n",
    "\n",
    "print('\\nAttributes of the dem:')\n",
    "dem.info()"
   ]
  },
  {
   "cell_type": "markdown",
   "metadata": {},
   "source": [
    "When plotting with matplotlib, the DEM behaves like a `np.ndarray`. So you’ll just have to pass it as an argument.\n",
    "\n",
    "If you want to increase the resolution of the plot, increase the `dpi` value"
   ]
  },
  {
   "cell_type": "code",
   "execution_count": null,
   "metadata": {},
   "outputs": [],
   "source": [
    "fig, ax = plt.subplots(figsize=(10, 10), dpi=100)\n",
    "\n",
    "ax.imshow(dem, cmap='terrain')\n",
    "plt.show()"
   ]
  }
 ],
 "metadata": {
  "kernelspec": {
   "display_name": "Python 3",
   "language": "python",
   "name": "python3"
  },
  "language_info": {
   "codemirror_mode": {
    "name": "ipython",
    "version": 3
   },
   "file_extension": ".py",
   "mimetype": "text/x-python",
   "name": "python",
   "nbconvert_exporter": "python",
   "pygments_lexer": "ipython3",
   "version": "3.10.12"
  }
 },
 "nbformat": 4,
 "nbformat_minor": 2
}
