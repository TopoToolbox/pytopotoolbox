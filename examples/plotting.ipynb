{
 "cells": [
  {
   "cell_type": "markdown",
   "metadata": {},
   "source": [
    "Plotting GridObjects\n",
    "====================\n",
    "\n",
    "Inbuilt Functions\n",
    "-----------------\n",
    "\n",
    "There a two ways to plot your DEMs using the provided show functions. \n",
    "\n",
    "- The class GridObject has the inbuilt GridObject.show(), which will plot the object using matplotlib. \n",
    "- To plot multiple GridObjects, use topotoolbox.show(). This util function can take multiple GridObject as arguments.\n"
   ]
  },
  {
   "cell_type": "code",
   "execution_count": null,
   "metadata": {},
   "outputs": [],
   "source": [
    "import topotoolbox as topo"
   ]
  },
  {
   "cell_type": "code",
   "execution_count": null,
   "metadata": {},
   "outputs": [],
   "source": [
    "dem1 = topo.load_dem(\"taiwan\")\n",
    "dem1.show()"
   ]
  },
  {
   "cell_type": "code",
   "execution_count": null,
   "metadata": {},
   "outputs": [],
   "source": [
    "dem2 = topo.load_dem('perfectworld')\n",
    "\n",
    "# To increase resolution use the dpi argument. Default value is 100.\n",
    "topo.show(dem1, dem2)"
   ]
  },
  {
   "cell_type": "markdown",
   "metadata": {},
   "source": [
    "External plotting\n",
    "-----------------\n",
    "\n",
    "If you want to customize your plots, use the matplotlib library. A GridObject can be passed just like a np.ndarray when plotting."
   ]
  },
  {
   "cell_type": "code",
   "execution_count": null,
   "metadata": {},
   "outputs": [],
   "source": [
    "import matplotlib.pyplot as plt"
   ]
  },
  {
   "cell_type": "code",
   "execution_count": null,
   "metadata": {},
   "outputs": [],
   "source": [
    "fig, (ax1, ax2) = plt.subplots(1, 2, dpi=200)\n",
    "ax1.imshow(dem1, cmap='terrain')\n",
    "ax1.set_title(dem1.name)\n",
    "\n",
    "ax2.imshow(dem2, cmap='terrain')\n",
    "ax2.set_title('my custom plot name')\n",
    "\n",
    "plt.tight_layout()\n",
    "plt.show()"
   ]
  }
 ],
 "metadata": {
  "kernelspec": {
   "display_name": "Python 3",
   "language": "python",
   "name": "python3"
  },
  "language_info": {
   "codemirror_mode": {
    "name": "ipython",
    "version": 3
   },
   "file_extension": ".py",
   "mimetype": "text/x-python",
   "name": "python",
   "nbconvert_exporter": "python",
   "pygments_lexer": "ipython3",
   "version": "3.10.12"
  }
 },
 "nbformat": 4,
 "nbformat_minor": 2
}
