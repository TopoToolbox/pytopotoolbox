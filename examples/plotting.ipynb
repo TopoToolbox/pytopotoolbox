{
 "cells": [
  {
   "cell_type": "markdown",
   "metadata": {},
   "source": [
    "Plotting DEMs\n",
    "-------------\n",
    "\n",
    "This workflow will provide examples on how to plot your DEMs.\n",
    "\n",
    "Inbuild functions\n",
    "=================\n",
    "\n",
    "There a two ways to plot your DEMs using the provided show functions. \n",
    "- The class GridObject has the inbuilt GridObject.show(), which will plot the object using matplotlib. \n",
    "- To plot multiple GridObjects, use topotoolbox.show(). This util function can take multiple GridObject as arguments."
   ]
  },
  {
   "cell_type": "code",
   "execution_count": 1,
   "metadata": {},
   "outputs": [
    {
     "ename": "ImportError",
     "evalue": "/home/bgailleton/mambaforge/envs/pycuda/lib/python3.11/site-packages/topotoolbox/_graphflood.cpython-311-x86_64-linux-gnu.so: undefined symbol: graphflood_full",
     "output_type": "error",
     "traceback": [
      "\u001b[0;31m---------------------------------------------------------------------------\u001b[0m",
      "\u001b[0;31mImportError\u001b[0m                               Traceback (most recent call last)",
      "Cell \u001b[0;32mIn[1], line 1\u001b[0m\n\u001b[0;32m----> 1\u001b[0m \u001b[38;5;28;01mimport\u001b[39;00m \u001b[38;5;21;01mtopotoolbox\u001b[39;00m \u001b[38;5;28;01mas\u001b[39;00m \u001b[38;5;21;01mtopo\u001b[39;00m\n",
      "File \u001b[0;32m~/mambaforge/envs/pycuda/lib/python3.11/site-packages/topotoolbox/__init__.py:3\u001b[0m\n\u001b[1;32m      1\u001b[0m \u001b[38;5;28;01mfrom\u001b[39;00m \u001b[38;5;21;01m.\u001b[39;00m\u001b[38;5;21;01mgrid_object\u001b[39;00m \u001b[38;5;28;01mimport\u001b[39;00m \u001b[38;5;241m*\u001b[39m\n\u001b[1;32m      2\u001b[0m \u001b[38;5;28;01mfrom\u001b[39;00m \u001b[38;5;21;01m.\u001b[39;00m\u001b[38;5;21;01mutils\u001b[39;00m \u001b[38;5;28;01mimport\u001b[39;00m \u001b[38;5;241m*\u001b[39m\n\u001b[0;32m----> 3\u001b[0m \u001b[38;5;28;01mfrom\u001b[39;00m \u001b[38;5;21;01m.\u001b[39;00m\u001b[38;5;21;01mgraphflood\u001b[39;00m \u001b[38;5;28;01mimport\u001b[39;00m \u001b[38;5;241m*\u001b[39m\n",
      "File \u001b[0;32m~/mambaforge/envs/pycuda/lib/python3.11/site-packages/topotoolbox/graphflood.py:3\u001b[0m\n\u001b[1;32m      1\u001b[0m \u001b[38;5;28;01mimport\u001b[39;00m \u001b[38;5;21;01mnumpy\u001b[39;00m \u001b[38;5;28;01mas\u001b[39;00m \u001b[38;5;21;01mnp\u001b[39;00m\n\u001b[1;32m      2\u001b[0m \u001b[38;5;28;01mimport\u001b[39;00m \u001b[38;5;21;01mmatplotlib\u001b[39;00m\u001b[38;5;21;01m.\u001b[39;00m\u001b[38;5;21;01mpyplot\u001b[39;00m \u001b[38;5;28;01mas\u001b[39;00m \u001b[38;5;21;01mplt\u001b[39;00m\n\u001b[0;32m----> 3\u001b[0m \u001b[38;5;28;01mfrom\u001b[39;00m \u001b[38;5;21;01m.\u001b[39;00m\u001b[38;5;21;01m_graphflood\u001b[39;00m \u001b[38;5;28;01mimport\u001b[39;00m graphflood_graphflood_full\n",
      "\u001b[0;31mImportError\u001b[0m: /home/bgailleton/mambaforge/envs/pycuda/lib/python3.11/site-packages/topotoolbox/_graphflood.cpython-311-x86_64-linux-gnu.so: undefined symbol: graphflood_full"
     ]
    }
   ],
   "source": [
    "import topotoolbox as topo"
   ]
  },
  {
   "cell_type": "code",
   "execution_count": 2,
   "metadata": {},
   "outputs": [
    {
     "ename": "NameError",
     "evalue": "name 'topo' is not defined",
     "output_type": "error",
     "traceback": [
      "\u001b[0;31m---------------------------------------------------------------------------\u001b[0m",
      "\u001b[0;31mNameError\u001b[0m                                 Traceback (most recent call last)",
      "Cell \u001b[0;32mIn[2], line 1\u001b[0m\n\u001b[0;32m----> 1\u001b[0m dem1 \u001b[38;5;241m=\u001b[39m \u001b[43mtopo\u001b[49m\u001b[38;5;241m.\u001b[39mload_dem(\u001b[38;5;124m\"\u001b[39m\u001b[38;5;124mtaiwan\u001b[39m\u001b[38;5;124m\"\u001b[39m)\n\u001b[1;32m      2\u001b[0m dem1\u001b[38;5;241m.\u001b[39mshow()\n",
      "\u001b[0;31mNameError\u001b[0m: name 'topo' is not defined"
     ]
    }
   ],
   "source": [
    "dem1 = topo.load_dem(\"taiwan\")\n",
    "dem1.show()"
   ]
  },
  {
   "cell_type": "code",
   "execution_count": null,
   "metadata": {},
   "outputs": [],
   "source": [
    "dem2 = topo.load_dem('perfectworld')\n",
    "dem3 = topo.load_dem('kunashiri')\n",
    "\n",
    "# To increase resolution use the dpi argument. Default value is 100.\n",
    "topo.show(dem1, dem2, dem3)"
   ]
  },
  {
   "cell_type": "markdown",
   "metadata": {},
   "source": [
    "External plotting\n",
    "=================\n",
    "\n",
    "If you want to customize your plots, use the matplotlib library. A GridObject can be passed just like a np.ndarray when plotting."
   ]
  },
  {
   "cell_type": "code",
   "execution_count": null,
   "metadata": {},
   "outputs": [],
   "source": [
    "import matplotlib.pyplot as plt"
   ]
  },
  {
   "cell_type": "code",
   "execution_count": null,
   "metadata": {},
   "outputs": [],
   "source": [
    "fig, (ax1, ax2) = plt.subplots(1, 2, dpi=200)\n",
    "ax1.imshow(dem1, cmap='terrain')\n",
    "ax1.set_title(dem1.name)\n",
    "\n",
    "ax2.imshow(dem2, cmap='terrain')\n",
    "ax2.set_title('my custom plot name')\n",
    "\n",
    "plt.tight_layout()\n",
    "plt.show()"
   ]
  }
 ],
 "metadata": {
  "kernelspec": {
   "display_name": "Python 3 (ipykernel)",
   "language": "python",
   "name": "python3"
  },
  "language_info": {
   "codemirror_mode": {
    "name": "ipython",
    "version": 3
   },
   "file_extension": ".py",
   "mimetype": "text/x-python",
   "name": "python",
   "nbconvert_exporter": "python",
   "pygments_lexer": "ipython3",
   "version": "3.11.9"
  }
 },
 "nbformat": 4,
 "nbformat_minor": 4
}
