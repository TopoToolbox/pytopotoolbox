{
 "cells": [
  {
   "cell_type": "markdown",
   "metadata": {},
   "source": [
    "Loading an example GridObject\n",
    "=============================\n",
    "\n",
    "The TopoToolbox provides a few example .tif files. These Files will get saved in a local cache. To delete these Files, run `topotoolbox.clear_cache()`."
   ]
  },
  {
   "cell_type": "code",
   "execution_count": 2,
   "metadata": {},
   "outputs": [
    {
     "name": "stdout",
     "output_type": "stream",
     "text": [
      "['kedarnath', 'kunashiri', 'perfectworld', 'taalvolcano', 'taiwan', 'tibet']\n",
      "\n",
      "name: taiwan\n",
      "path: /home/theo/.cache/topotoolbox/taiwan.tif\n",
      "rows: 4181\n",
      "cols: 2253\n",
      "cellsize: 90.0\n",
      "bounds: BoundingBox(left=197038.4533204764, bottom=2422805.9007333447, right=399808.4533204764, top=2799095.9007333447)\n",
      "transform: | 90.00, 0.00, 197038.45|\n",
      "| 0.00,-90.00, 2799095.90|\n",
      "| 0.00, 0.00, 1.00|\n",
      "crs: EPSG:32651\n",
      "\n",
      "['kunashiri.tif', 'perfectworld.tif', 'tibet.tif', 'taiwan.tif', 'kedarnath.tif']\n"
     ]
    }
   ],
   "source": [
    "import topotoolbox as topo\n",
    "\n",
    "# Print all available example files\n",
    "print(f\"{topo.get_dem_names()}\\n\")\n",
    "\n",
    "# Download an example file\n",
    "dem = topo.load_dem(\"taiwan\")\n",
    "dem.info()\n",
    "\n",
    "# Print all files currently saved in your cache\n",
    "print(f\"\\n{topo.get_cache_contents()}\")"
   ]
  }
 ],
 "metadata": {
  "kernelspec": {
   "display_name": "Python 3 (ipykernel)",
   "language": "python",
   "name": "python3"
  },
  "language_info": {
   "codemirror_mode": {
    "name": "ipython",
    "version": 3
   },
   "file_extension": ".py",
   "mimetype": "text/x-python",
   "name": "python",
   "nbconvert_exporter": "python",
   "pygments_lexer": "ipython3",
   "version": "3.10.12"
  }
 },
 "nbformat": 4,
 "nbformat_minor": 2
}
