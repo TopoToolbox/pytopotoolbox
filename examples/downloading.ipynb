{
 "cells": [
  {
   "cell_type": "markdown",
   "metadata": {},
   "source": [
    "Loading an example GridObject\n",
    "=============================\n",
    "\n",
    "The TopoToolbox provides a few example .tif files. These Files will get saved in a local cache. To delete these Files, run `topotoolbox.clear_cache()`."
   ]
  },
  {
   "cell_type": "code",
   "execution_count": null,
   "metadata": {},
   "outputs": [],
   "source": [
    "import topotoolbox as topo\n",
    "\n",
    "# Print all available example files\n",
    "print(f\"{topo.get_dem_names()}\\n\")\n",
    "\n",
    "# Download an example file\n",
    "dem = topo.load_dem(\"taiwan\")\n",
    "dem.info()\n",
    "\n",
    "# Print all files currently saved in your cache\n",
    "print(f\"\\n{topo.get_cache_contents()}\")"
   ]
  }
 ],
 "metadata": {
  "kernelspec": {
   "display_name": "Python 3 (ipykernel)",
   "language": "python",
   "name": "python3"
  },
  "language_info": {
   "codemirror_mode": {
    "name": "ipython",
    "version": 3
   },
   "file_extension": ".py",
   "mimetype": "text/x-python",
   "name": "python",
   "nbconvert_exporter": "python",
   "pygments_lexer": "ipython3",
   "version": "3.10.12"
  }
 },
 "nbformat": 4,
 "nbformat_minor": 2
}
