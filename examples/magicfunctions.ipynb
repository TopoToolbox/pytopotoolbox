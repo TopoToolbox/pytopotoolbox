{
 "cells": [
  {
   "cell_type": "markdown",
   "metadata": {},
   "source": [
    "Interaction between GridObjects\n",
    "===============================\n",
    "\n",
    "In this Jupyter Notebook, the magic functions of the gridObject are explained. These are operations like adding two GridObjects together. Instead of utilizing functions that could look like `new_dem = topo.add(dem1, dem2)`, this package utilizes magic functions. The same addition will therefor look like this: `new_dem = dem1 + dem2`.\n",
    "\n",
    "The following operations are possible using GridObjects:\n",
    "\n",
    "- Equality Check: `==`\n",
    "- Inequality Check: `!=`\n",
    "- Greater Than: `>`\n",
    "- Less Than: `<`\n",
    "- Greater Than or Equal To: `>=`\n",
    "- Less Than or Equal To: `<=`\n",
    "- Addition: `+`\n",
    "- Subtraction: `-`\n",
    "- Multiplication: `*`\n",
    "- Division: `/`\n",
    "- Logical AND: `&`\n",
    "- Logical OR: `|`\n",
    "- Logical XOR: `^`\n",
    "- Length: `len()`\n",
    "- Iteration: `for i in dem:`\n",
    "- Item Access: `y = dem[x]`\n",
    "- Item Assignment: `dem[x] = y`\n",
    "- Array Representation: Passing the GridObject in places where a numpy.ndarray is expected\n",
    "- String Representation: `print(dem)`\n"
   ]
  },
  {
   "cell_type": "code",
   "execution_count": null,
   "metadata": {},
   "outputs": [],
   "source": [
    "import topotoolbox as topo\n",
    "import numpy as np"
   ]
  },
  {
   "cell_type": "markdown",
   "metadata": {},
   "source": [
    "Iterating through a GridObject:\n",
    "-------------------------------"
   ]
  },
  {
   "cell_type": "code",
   "execution_count": null,
   "metadata": {},
   "outputs": [],
   "source": [
    "dem = topo.gen_random_bool(rows=4, columns=4)\n",
    "\n",
    "# looping through a GridObject\n",
    "for i in dem:\n",
    "    print(i)\n",
    "\n",
    "# Accessing cells of an GridObject\n",
    "print(f\"\\n{dem[2][2]}\")\n",
    "dem[2][2] = 2\n",
    "print(f\"\\n{dem[2][2]}\")"
   ]
  },
  {
   "cell_type": "markdown",
   "metadata": {},
   "source": [
    "Comparing GridObjects\n",
    "---------------------"
   ]
  },
  {
   "cell_type": "code",
   "execution_count": null,
   "metadata": {},
   "outputs": [],
   "source": [
    "dem1 = topo.gen_random(rows=32, columns=32, hillsize=24)\n",
    "dem2 = topo.gen_random(rows=32, columns=32, hillsize=32)\n",
    "\n",
    "# Some comparisons between the two generated GridObjects\n",
    "topo.show(dem1, dem2, dem1 > dem2, dem1 == dem2)\n"
   ]
  },
  {
   "cell_type": "markdown",
   "metadata": {},
   "source": [
    "Using AND, OR as well as XOR\n",
    "----------------------------"
   ]
  },
  {
   "cell_type": "code",
   "execution_count": null,
   "metadata": {},
   "outputs": [],
   "source": [
    "dem1 = topo.gen_random_bool()\n",
    "dem2 = topo.gen_random_bool()\n",
    "\n",
    "\n",
    "topo.show(dem1, dem2, dem1 & dem2, dem1 | dem2, dem1 ^ dem2)"
   ]
  },
  {
   "cell_type": "markdown",
   "metadata": {},
   "source": []
  },
  {
   "cell_type": "code",
   "execution_count": null,
   "metadata": {},
   "outputs": [],
   "source": [
    "dem1 = topo.gen_random(rows=32, columns=32, seed=128, name='dem1')\n",
    "dem2 = topo.gen_random(rows=32, columns=32, seed=84, name='dem2')\n",
    "\n",
    "# Adding two GridObject together and multiplying dem1 by 2. Notice the colorbar\n",
    "topo.show(dem1, dem2, dem1 + dem2, dem1*2)"
   ]
  }
 ],
 "metadata": {
  "kernelspec": {
   "display_name": "Python 3",
   "language": "python",
   "name": "python3"
  },
  "language_info": {
   "codemirror_mode": {
    "name": "ipython",
    "version": 3
   },
   "file_extension": ".py",
   "mimetype": "text/x-python",
   "name": "python",
   "nbconvert_exporter": "python",
   "pygments_lexer": "ipython3",
   "version": "3.10.12"
  }
 },
 "nbformat": 4,
 "nbformat_minor": 2
}
