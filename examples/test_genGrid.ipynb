{
 "cells": [
  {
   "cell_type": "markdown",
   "metadata": {},
   "source": [
    "## test_genGrid"
   ]
  },
  {
   "cell_type": "code",
   "execution_count": null,
   "metadata": {},
   "outputs": [],
   "source": [
    "import topotoolbox as topo\n",
    "import matplotlib.pyplot as plt\n",
    "from matplotlib.colors import LightSource\n",
    "\n",
    "# generating Gridobject with random terrain\n",
    "dem = topo.gen_random()\n",
    "\n",
    "# plotting dem with hillshade\n",
    "ls = LightSource(azdeg=270, altdeg=60)\n",
    "hillshade = ls.hillshade(dem.z, vert_exag=1/dem.cellsize)\n",
    "img = plt.imshow(dem.z, cmap='terrain')\n",
    "img_overlay = plt.imshow(hillshade,  cmap=\"gray\", alpha=0.25)\n",
    "plt.colorbar(img)\n",
    "plt.show()"
   ]
  },
  {
   "cell_type": "code",
   "execution_count": null,
   "metadata": {},
   "outputs": [],
   "source": [
    "dem = dem.fillsinks()\n",
    "\n",
    "ls = LightSource(azdeg=270, altdeg=60)\n",
    "hillshade = ls.hillshade(dem.z, vert_exag=1/dem.cellsize)\n",
    "img = plt.imshow(dem.z, cmap='terrain')\n",
    "img_overlay = plt.imshow(hillshade,  cmap=\"gray\", alpha=0.25)\n",
    "plt.colorbar(img)\n",
    "plt.show()"
   ]
  }
 ],
 "metadata": {
  "kernelspec": {
   "display_name": "Python 3",
   "language": "python",
   "name": "python3"
  },
  "language_info": {
   "codemirror_mode": {
    "name": "ipython",
    "version": 3
   },
   "file_extension": ".py",
   "mimetype": "text/x-python",
   "name": "python",
   "nbconvert_exporter": "python",
   "pygments_lexer": "ipython3",
   "version": "3.10.12"
  }
 },
 "nbformat": 4,
 "nbformat_minor": 2
}
