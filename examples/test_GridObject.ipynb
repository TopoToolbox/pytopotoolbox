{
 "cells": [
  {
   "cell_type": "markdown",
   "metadata": {},
   "source": [
    "## test GridObject"
   ]
  },
  {
   "cell_type": "code",
   "execution_count": null,
   "metadata": {},
   "outputs": [],
   "source": [
    "import topotoolbox as topo\n",
    "\n",
    "import matplotlib.pyplot as plt"
   ]
  },
  {
   "cell_type": "code",
   "execution_count": null,
   "metadata": {},
   "outputs": [],
   "source": [
    "dem = topo.gen_random()\n",
    "dem.info()"
   ]
  },
  {
   "cell_type": "code",
   "execution_count": null,
   "metadata": {},
   "outputs": [],
   "source": [
    "filled = dem.fillsinks()\n",
    "\n",
    "flats, sills = filled.identifyflats()\n",
    "\n",
    "# plotting:\n",
    "fig, (ax1, ax2, ax3) = plt.subplots(1, 3, figsize=(12,4))\n",
    "ax1.imshow(dem, cmap='terrain')\n",
    "ax1.set_title('dem')\n",
    "ax2.imshow(filled, cmap='terrain')\n",
    "ax2.set_title('filled')\n",
    "\n",
    "ax3.imshow(flats, cmap='Reds', alpha=0.5)\n",
    "ax3.imshow(sills, cmap='Blues', alpha=0.5)\n",
    "ax3.set_title('flats and sills')\n",
    "\n",
    "plt.show()"
   ]
  },
  {
   "cell_type": "code",
   "execution_count": null,
   "metadata": {},
   "outputs": [],
   "source": [
    "raw = filled.identifyflats(raw=True)\n",
    "\n",
    "img = plt.imshow(raw, cmap='binary')\n",
    "plt.show()"
   ]
  }
 ],
 "metadata": {
  "kernelspec": {
   "display_name": "Python 3",
   "language": "python",
   "name": "python3"
  },
  "language_info": {
   "codemirror_mode": {
    "name": "ipython",
    "version": 3
   },
   "file_extension": ".py",
   "mimetype": "text/x-python",
   "name": "python",
   "nbconvert_exporter": "python",
   "pygments_lexer": "ipython3",
   "version": "3.10.12"
  }
 },
 "nbformat": 4,
 "nbformat_minor": 2
}
