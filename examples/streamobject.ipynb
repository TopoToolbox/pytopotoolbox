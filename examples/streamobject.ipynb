{
 "cells": [
  {
   "cell_type": "markdown",
   "metadata": {},
   "source": [
    "StreamObject\n",
    "============\n",
    "\n",
    "This example will showcase how to create and use the StreamObject provided by topotoolbox. The StreamObject is based on a FlowObject which in turn is based on a GridObject."
   ]
  },
  {
   "cell_type": "code",
   "execution_count": null,
   "metadata": {},
   "outputs": [],
   "source": [
    "import topotoolbox as topo\n",
    "\n",
    "# First load the GridObject (and plot it for reference):\n",
    "dem = topo.load_dem('perfectworld')\n",
    "dem.show()\n",
    "\n",
    "# Then the FlowObject can be generated:\n",
    "flow = topo.FlowObject(dem)\n",
    "\n",
    "# Lastly the StreamObject can be created:\n",
    "stream = topo.StreamObject(flow)\n",
    "stream.show()"
   ]
  }
 ],
 "metadata": {
  "kernelspec": {
   "display_name": "Python 3",
   "language": "python",
   "name": "python3"
  },
  "language_info": {
   "codemirror_mode": {
    "name": "ipython",
    "version": 3
   },
   "file_extension": ".py",
   "mimetype": "text/x-python",
   "name": "python",
   "nbconvert_exporter": "python",
   "pygments_lexer": "ipython3",
   "version": "3.10.12"
  }
 },
 "nbformat": 4,
 "nbformat_minor": 2
}
