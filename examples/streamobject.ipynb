{
 "cells": [
  {
   "cell_type": "markdown",
   "metadata": {},
   "source": [
    "StreamObject\n",
    "============\n",
    "\n",
    "This example will showcase how to create and use the StreamObject provided by topotoolbox. The StreamObject is based on a FlowObject which in turn is based on a GridObject."
   ]
  },
  {
   "cell_type": "code",
   "execution_count": 1,
   "metadata": {},
   "outputs": [],
   "source": [
    "import topotoolbox as topo\n",
    "import matplotlib.pyplot as plt"
   ]
  },
  {
   "cell_type": "code",
   "execution_count": null,
   "metadata": {},
   "outputs": [],
   "source": [
    "#dem = topo.load_dem('perfectworld')\n",
    "dem = topo.gen_random(rows=3, columns=3)\n",
    "dem.show()\n",
    "flow = topo.FlowObject(dem)\n",
    "stream = topo.StreamObject(flow, threshold=4)\n",
    "\n",
    "# While the stream itself is saved as a list, when showing it it will be\n",
    "# convertet to a grid again.\n",
    "stream.show()"
   ]
  },
  {
   "cell_type": "code",
   "execution_count": null,
   "metadata": {},
   "outputs": [],
   "source": [
    "print(stream.stream)\n",
    "print()\n",
    "print(stream.source)\n",
    "print(stream.target)\n",
    "print(stream.direction)"
   ]
  }
 ],
 "metadata": {
  "kernelspec": {
   "display_name": "Python 3",
   "language": "python",
   "name": "python3"
  },
  "language_info": {
   "codemirror_mode": {
    "name": "ipython",
    "version": 3
   },
   "file_extension": ".py",
   "mimetype": "text/x-python",
   "name": "python",
   "nbconvert_exporter": "python",
   "pygments_lexer": "ipython3",
   "version": "3.10.12"
  }
 },
 "nbformat": 4,
 "nbformat_minor": 2
}
