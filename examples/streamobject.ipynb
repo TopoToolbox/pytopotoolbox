{
 "cells": [
  {
   "cell_type": "markdown",
   "metadata": {},
   "source": [
    "StreamObject\n",
    "============\n",
    "\n",
    "This example will showcase how to create and use the StreamObject provided by topotoolbox. The StreamObject is based on a FlowObject which in turn is based on a GridObject."
   ]
  },
  {
   "cell_type": "code",
   "execution_count": 1,
   "metadata": {},
   "outputs": [],
   "source": [
    "import topotoolbox as topo\n",
    "\n",
    "import numpy as np\n",
    "import matplotlib.pyplot as plt"
   ]
  },
  {
   "cell_type": "code",
   "execution_count": null,
   "metadata": {},
   "outputs": [],
   "source": [
    "dem = topo.load_dem('perfectworld')\n",
    "flow = topo.FlowObject(dem)\n",
    "stream = topo.StreamObject(flow)\n",
    "\n",
    "# Plot both the original dem as well as the calculated streams.\n",
    "stream.show(overlay=dem)"
   ]
  },
  {
   "cell_type": "code",
   "execution_count": null,
   "metadata": {},
   "outputs": [],
   "source": [
    "# the upslope area threshold can also be provided in km^2\n",
    "stream = topo.StreamObject(flow, units='km2', threshold=100)\n",
    "\n",
    "# You can also plot a stream without the background\n",
    "stream.show()"
   ]
  },
  {
   "cell_type": "code",
   "execution_count": null,
   "metadata": {},
   "outputs": [],
   "source": [
    "# ... or in m^2\n",
    "stream = topo.StreamObject(flow, units='m2', threshold=100000000)\n",
    "stream.show()"
   ]
  },
  {
   "cell_type": "code",
   "execution_count": null,
   "metadata": {},
   "outputs": [],
   "source": [
    "# The stream can also be provided in form of a ndarray\n",
    "arr = np.zeros(flow.shape, dtype=np.int64)\n",
    "middle_col = flow.shape[1] // 2\n",
    "start_col = max(0, middle_col - 10 // 2)\n",
    "end_col = min(flow.shape[1], middle_col + 10 // 2)\n",
    "arr[:, start_col:end_col] = 1\n",
    "\n",
    "plt.imshow(arr)\n",
    "plt.show()\n",
    "\n",
    "stream = topo.StreamObject(flow, stream_pixels=arr)\n",
    "stream.show()"
   ]
  }
 ],
 "metadata": {
  "kernelspec": {
   "display_name": "Python 3",
   "language": "python",
   "name": "python3"
  },
  "language_info": {
   "codemirror_mode": {
    "name": "ipython",
    "version": 3
   },
   "file_extension": ".py",
   "mimetype": "text/x-python",
   "name": "python",
   "nbconvert_exporter": "python",
   "pygments_lexer": "ipython3",
   "version": "3.10.12"
  }
 },
 "nbformat": 4,
 "nbformat_minor": 2
}
