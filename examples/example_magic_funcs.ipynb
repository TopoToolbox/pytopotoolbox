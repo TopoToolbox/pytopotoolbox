{
 "cells": [
  {
   "cell_type": "code",
   "execution_count": null,
   "metadata": {},
   "outputs": [],
   "source": [
    "import topotoolbox as topo\n",
    "import matplotlib.pyplot as plt\n",
    "import numpy as np"
   ]
  },
  {
   "cell_type": "markdown",
   "metadata": {},
   "source": [
    "Iteratinf through dem:"
   ]
  },
  {
   "cell_type": "code",
   "execution_count": null,
   "metadata": {},
   "outputs": [],
   "source": [
    "dem = topo.GridObject.gen_random_bool(rows=4, columns=4)\n",
    "for i in dem:\n",
    "    print(i)\n",
    "\n",
    "print(dem[2][2])\n",
    "dem[2][2] = 2\n",
    "print(dem[2][2])"
   ]
  },
  {
   "cell_type": "markdown",
   "metadata": {},
   "source": [
    "Comparing dems:\n",
    "- `>`, `<`, `>=`, `<=`\n",
    "- and: `&`\n",
    "- or: `|`\n",
    "- xor: `^`\n",
    "\n",
    "(in the binary plots, black = true)"
   ]
  },
  {
   "cell_type": "code",
   "execution_count": null,
   "metadata": {},
   "outputs": [],
   "source": [
    "dem1 = topo.GridObject.gen_random(rows=32, columns=32, hillsize=24)\n",
    "dem2 = topo.GridObject.gen_random(rows=32, columns=32, hillsize=32)\n",
    "\n",
    "fig, (ax1, ax2, ax3, ax4, ax5, ax6) = plt.subplots(1, 6, figsize=(14,4))\n",
    "im1 = ax1.imshow(dem1.z, cmap='terrain')\n",
    "ax1.set_title('dem1')\n",
    "im2 = ax2.imshow(dem2.z, cmap='terrain')\n",
    "ax2.set_title('dem2')\n",
    "\n",
    "im3 = ax3.imshow((dem1 > dem2).z, cmap='binary')\n",
    "ax3.set_title('>')\n",
    "im4 = ax4.imshow((dem1 < dem2).z, cmap='binary')\n",
    "ax4.set_title('<')\n",
    "im5 = ax5.imshow((dem1 >= dem2).z, cmap='binary')\n",
    "ax5.set_title('>=')\n",
    "im6 = ax6.imshow((dem1 <= dem2).z, cmap='binary')\n",
    "ax6.set_title('<=')\n",
    "\n",
    "plt.show()"
   ]
  },
  {
   "cell_type": "code",
   "execution_count": null,
   "metadata": {},
   "outputs": [],
   "source": [
    "dem1 = topo.GridObject.gen_random_bool()\n",
    "dem2 = topo.GridObject.gen_random_bool()\n",
    "\n",
    "fig, (ax1, ax2, ax3, ax4, ax5) = plt.subplots(1, 5, figsize=(12,4))\n",
    "im1 = ax1.imshow(dem1.z, cmap='binary')\n",
    "ax1.set_title('dem1')\n",
    "im2 = ax2.imshow(dem2.z, cmap='binary')\n",
    "ax2.set_title('dem2')\n",
    "\n",
    "im3 = ax3.imshow((dem1 & dem2).z, cmap='binary')\n",
    "ax3.set_title('and')\n",
    "im4 = ax4.imshow((dem1 | dem2).z, cmap='binary')\n",
    "ax4.set_title('or')\n",
    "im5 = ax5.imshow((dem1 ^ dem2).z, cmap='binary')\n",
    "ax5.set_title('xor')\n",
    "\n",
    "plt.show()"
   ]
  },
  {
   "cell_type": "markdown",
   "metadata": {},
   "source": [
    "Adding two dems and adding a int to all cells of a dem: (works the same way when using `-`, `*` or `/`)"
   ]
  },
  {
   "cell_type": "code",
   "execution_count": null,
   "metadata": {},
   "outputs": [],
   "source": [
    "dem1 = topo.GridObject.gen_random(rows=32, columns=32, hillsize=32)\n",
    "dem2 = topo.GridObject.gen_random(rows=32, columns=32, hillsize=16)\n",
    "\n",
    "fig, (ax1, ax2, ax3) = plt.subplots(1, 3)\n",
    "ax1.imshow(dem1.z, cmap='terrain')\n",
    "ax2.imshow(dem2.z, cmap='terrain')\n",
    "\n",
    "ax3.imshow((dem1 + dem2).z, cmap='terrain')\n",
    "plt.show()\n",
    "\n",
    "print('dem3:\\n', dem1.z)\n",
    "print('dem3 + 100:\\n', (dem1 + 100).z)"
   ]
  }
 ],
 "metadata": {
  "kernelspec": {
   "display_name": "Python 3",
   "language": "python",
   "name": "python3"
  },
  "language_info": {
   "codemirror_mode": {
    "name": "ipython",
    "version": 3
   },
   "file_extension": ".py",
   "mimetype": "text/x-python",
   "name": "python",
   "nbconvert_exporter": "python",
   "pygments_lexer": "ipython3",
   "version": "3.10.12"
  }
 },
 "nbformat": 4,
 "nbformat_minor": 2
}
